{
 "cells": [
  {
   "cell_type": "code",
   "execution_count": 4,
   "id": "5f4beead",
   "metadata": {},
   "outputs": [],
   "source": [
    "import gym\n",
    "import numpy as np\n",
    "# # https://github.com/openai/gym/blob/master/gym/envs/toy_text/frozen_lake.py\n",
    "env = gym.make('FrozenLake-v1')\n",
    "env.reset()\n",
    "\n",
    "obs_n = env.observation_space.n\n",
    "act_n = env.action_space.n\n",
    "\n",
    "# transition matrix\n",
    "P = np.zeros((obs_n, act_n, obs_n))\n",
    "# reward function\n",
    "R = np.zeros((obs_n, act_n, obs_n))\n",
    "for obs in range(obs_n):\n",
    "    for act, results in env.P[obs].items():\n",
    "        for (prob, next_obs, reward, done) in results:\n",
    "            P[obs, act, next_obs] = prob\n",
    "            R[obs, act, next_obs] = reward\n",
    "            if obs == obs_n - 1:\n",
    "                # terminal states should always have reward 1\n",
    "                R[obs, act, next_obs] = 1\n",
    "# Reward at terminal states?\n",
    "gamma = 0.9\n",
    "\n",
    "def calc_policy(V):\n",
    "    \"\"\"get a deterministic policy that will acting greedly w.r.t. value function\"\"\"\n",
    "    policy = np.zeros((obs_n, act_n))\n",
    "    for obs in range(obs_n):\n",
    "        Q = []\n",
    "        for act in range(act_n):\n",
    "            # find action with highest q value\n",
    "            q = 0\n",
    "            for next_obs in range(obs_n):\n",
    "                q += R[obs, act, next_obs] * P[obs, act, next_obs] + gamma * P[obs, act, next_obs] * V[next_obs]\n",
    "            Q.append(q)\n",
    "        best_act = Q.index(max(Q))\n",
    "        policy[obs, best_act] = 1\n",
    "    return policy"
   ]
  },
  {
   "cell_type": "markdown",
   "id": "4ac7cc1d",
   "metadata": {},
   "source": [
    "Policy Evaluation:\n",
    "\n",
    "$$v_{\\pi_{k+1}} (s)= \\sum_{a \\in \\mathcal{A}} \\pi(a|s) \\left( \\mathcal{R}^a_s + \\gamma \\sum_{s' \\in S} \\mathcal{P}^a_{ss'} \\ v_{\\pi_k}(s') \\right) $$"
   ]
  },
  {
   "cell_type": "code",
   "execution_count": 5,
   "id": "2bdeeff3",
   "metadata": {},
   "outputs": [
    {
     "name": "stdout",
     "output_type": "stream",
     "text": [
      "3\n"
     ]
    }
   ],
   "source": [
    "def policy_eval(policy, k = 10):\n",
    "    \"\"\" Bellman Expectation Equation \"\"\"\n",
    "    # set initial values\n",
    "    V = np.zeros((obs_n))\n",
    "    for _ in range(k):\n",
    "        # synchronous backups\n",
    "        old_value = np.copy(V)\n",
    "        for obs in range(obs_n):\n",
    "            for act in range(act_n):\n",
    "                for next_obs in range(obs_n):\n",
    "                    V[obs] += policy[obs, act] * (R[obs, act, next_obs] * P[obs, act, next_obs]\\\n",
    "                                            + gamma * P[obs, act, next_obs] * old_value[next_obs])\n",
    "    return V\n",
    "\n",
    "def policy_iter():\n",
    "    \"\"\"calculate value function of the policy and update policy, until policy unchange\"\"\"\n",
    "    policy = np.zeros((obs_n, act_n))\n",
    "    # initialize policy: always go downwards\n",
    "    policy[:, 1] = 1\n",
    "    \n",
    "    count = 0\n",
    "    while True:\n",
    "        count += 1\n",
    "        V = policy_eval(policy)\n",
    "        new_policy = calc_policy(V)\n",
    "        if (new_policy == policy).all():\n",
    "            print(count)\n",
    "            return policy\n",
    "        policy = np.copy(new_policy)\n",
    "\n",
    "policy = policy_iter()"
   ]
  },
  {
   "cell_type": "markdown",
   "id": "e78c77f9",
   "metadata": {},
   "source": [
    "Value Iteration\n",
    "\n",
    "$$v_{k+1}(s) = \\max_{a \\in \\mathcal{A}} \\left(\\mathcal{R}^a_{s} + \\gamma \\sum_{s \\in \\mathcal{S}} \\mathcal{P}_{ss'}^a \\ v_k(s') \\right)$$"
   ]
  },
  {
   "cell_type": "code",
   "execution_count": 14,
   "id": "b4ff3287",
   "metadata": {},
   "outputs": [],
   "source": [
    "def update_v(V):\n",
    "    \"\"\"Bellman Optimality Equation\"\"\"\n",
    "    # synchronous backups\n",
    "    old_V = np.copy(V)\n",
    "    for obs in range(obs_n):\n",
    "        Qs = []\n",
    "        for act in range(act_n):\n",
    "            # calculate q-values for each action\n",
    "            q = 0\n",
    "            for next_obs in range(obs_n):\n",
    "                q += P[obs, act, next_obs] * R[obs, act, next_obs] +\\\n",
    "                    gamma * P[obs, act, next_obs] * old_V[next_obs]\n",
    "            Qs.append(q)\n",
    "        V[obs] = max(Qs)\n",
    "    return V\n",
    "\n",
    "def value_iter():\n",
    "    \"\"\"iteratively update BOE, until the policy calculate by BOE unchange\"\"\"\n",
    "    # set initial values\n",
    "    # no initial policy needed\n",
    "    V = np.zeros(obs_n)\n",
    "    policy = calc_policy(V)\n",
    "    while True:\n",
    "        V = update_v(V)\n",
    "        new_policy = calc_policy(V)\n",
    "        if (new_policy == policy).all():\n",
    "            return policy\n",
    "        policy = np.copy(new_policy)\n",
    "\n",
    "policy = value_iter()"
   ]
  },
  {
   "cell_type": "code",
   "execution_count": 13,
   "id": "b6ed7b95",
   "metadata": {},
   "outputs": [],
   "source": [
    "def act(policy, obs):\n",
    "    return np.argmax(policy[int(obs)])\n",
    "\n",
    "import time\n",
    "obs = env.reset()\n",
    "done = False\n",
    "while not done:\n",
    "    # print(actions[act(policy, obs)])\n",
    "    obs, reward, done, _ = env.step(act(policy, obs))\n",
    "    env.render()\n",
    "    time.sleep(1)\n",
    "env.close()"
   ]
  },
  {
   "cell_type": "markdown",
   "id": "35a07eee",
   "metadata": {},
   "source": [
    "感想：First try to program elementwise before you want to anything matrixwise"
   ]
  },
  {
   "cell_type": "code",
   "execution_count": 71,
   "id": "6d7f7310",
   "metadata": {},
   "outputs": [],
   "source": [
    "actions ={0: 'LEFT',\n",
    "          1: 'DOWN',\n",
    "          2: 'RIGHT',\n",
    "          3: 'UP',}"
   ]
  }
 ],
 "metadata": {
  "kernelspec": {
   "display_name": "rl",
   "language": "python",
   "name": "rl"
  },
  "language_info": {
   "codemirror_mode": {
    "name": "ipython",
    "version": 3
   },
   "file_extension": ".py",
   "mimetype": "text/x-python",
   "name": "python",
   "nbconvert_exporter": "python",
   "pygments_lexer": "ipython3",
   "version": "3.9.12"
  }
 },
 "nbformat": 4,
 "nbformat_minor": 5
}
